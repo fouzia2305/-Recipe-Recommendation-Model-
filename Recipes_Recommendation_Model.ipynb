{
 "cells": [
  {
   "cell_type": "markdown",
   "id": "2898c4a4-0467-48fc-a02a-1bac6adc3b64",
   "metadata": {},
   "source": [
    "# Data Scientist Assessment: Recipe Recommendation Model"
   ]
  },
  {
   "cell_type": "markdown",
   "id": "fd27d04f-53de-4512-af65-aacc38bf47fa",
   "metadata": {},
   "source": [
    "## Objective: \n",
    "Design and build a model that generates or suggests new food recipes based on a set of \n",
    "ingredients, dietary preferences, and cuisine styles."
   ]
  },
  {
   "cell_type": "markdown",
   "id": "faef2618-95bc-473c-9054-8d3bd51bcfab",
   "metadata": {},
   "source": [
    "##  Dataset Collection and Preparation: "
   ]
  },
  {
   "cell_type": "markdown",
   "id": "bd8a2c04-2531-46ab-acb3-6bb6ced26bc2",
   "metadata": {},
   "source": [
    "### Load and Explore Dataset:\n",
    "Load and inspect the dataset to identify structure, null values, and relevant features for the recommendation ystem/"
   ]
  },
  {
   "cell_type": "code",
   "execution_count": 1,
   "id": "2171a912-2635-4897-acbc-29d39431eb01",
   "metadata": {},
   "outputs": [],
   "source": [
    "import pandas as pd"
   ]
  },
  {
   "cell_type": "code",
   "execution_count": 2,
   "id": "f0f174ad-20e2-44b5-b188-ba87ec2d75dd",
   "metadata": {},
   "outputs": [],
   "source": [
    "df=pd.read_csv(\"recipes.csv\")"
   ]
  },
  {
   "cell_type": "code",
   "execution_count": 3,
   "id": "5f7144e2-8199-4dc1-8300-6cf2b88a6dd2",
   "metadata": {},
   "outputs": [
    {
     "name": "stdout",
     "output_type": "stream",
     "text": [
      "<class 'pandas.core.frame.DataFrame'>\n",
      "RangeIndex: 1090 entries, 0 to 1089\n",
      "Data columns (total 15 columns):\n",
      " #   Column        Non-Null Count  Dtype  \n",
      "---  ------        --------------  -----  \n",
      " 0   Unnamed: 0    1090 non-null   int64  \n",
      " 1   recipe_name   1090 non-null   object \n",
      " 2   prep_time     1039 non-null   object \n",
      " 3   cook_time     782 non-null    object \n",
      " 4   total_time    1045 non-null   object \n",
      " 5   servings      1090 non-null   int64  \n",
      " 6   yield         879 non-null    object \n",
      " 7   ingredients   1090 non-null   object \n",
      " 8   directions    1090 non-null   object \n",
      " 9   rating        1090 non-null   float64\n",
      " 10  url           1090 non-null   object \n",
      " 11  cuisine_path  1090 non-null   object \n",
      " 12  nutrition     1090 non-null   object \n",
      " 13  timing        1090 non-null   object \n",
      " 14  img_src       1090 non-null   object \n",
      "dtypes: float64(1), int64(2), object(12)\n",
      "memory usage: 127.9+ KB\n",
      "Dataset Info: None\n"
     ]
    }
   ],
   "source": [
    "print(\"Dataset Info:\",df.info())"
   ]
  },
  {
   "cell_type": "code",
   "execution_count": 4,
   "id": "c26735e7-0430-49a5-ae3c-a1d1980b9435",
   "metadata": {},
   "outputs": [
    {
     "data": {
      "text/plain": [
       "(1090, 15)"
      ]
     },
     "execution_count": 4,
     "metadata": {},
     "output_type": "execute_result"
    }
   ],
   "source": [
    "df.shape"
   ]
  },
  {
   "cell_type": "code",
   "execution_count": 5,
   "id": "573b13bf-20fd-46d2-9a6c-3ab5e279e818",
   "metadata": {},
   "outputs": [
    {
     "name": "stdout",
     "output_type": "stream",
     "text": [
      "Sample Data:    Unnamed: 0                  recipe_name prep_time cook_time     total_time  \\\n",
      "0           0     Apple-Cranberry Crostada       NaN       NaN            NaN   \n",
      "1           1    Apple Pie by Grandma Ople   30 mins     1 hrs  1 hrs 30 mins   \n",
      "2           2  Sarah's Homemade Applesauce   10 mins   15 mins        25 mins   \n",
      "3           3                  Apple Crisp   30 mins   45 mins  1 hrs 15 mins   \n",
      "4           4            Apple Pie Filling   20 mins   20 mins  2 hrs 40 mins   \n",
      "\n",
      "   servings              yield  \\\n",
      "0         8  6 to 8 - servings   \n",
      "1         8       1 9-inch pie   \n",
      "2         4                NaN   \n",
      "3        12    1 9x13-inch pan   \n",
      "4        40      5 9-inch pies   \n",
      "\n",
      "                                         ingredients  \\\n",
      "0  3 tablespoons butter, 2 pounds Granny Smith ap...   \n",
      "1  8 small Granny Smith apples, or as needed, ½ c...   \n",
      "2  4  apples - peeled, cored and chopped, ¾ cup w...   \n",
      "3  10 cups all-purpose apples, peeled, cored and ...   \n",
      "4  18 cups thinly sliced apples, 3 tablespoons le...   \n",
      "\n",
      "                                          directions  rating  \\\n",
      "0  Heat butter in a large skillet over medium-hig...     4.4   \n",
      "1  Peel and core apples, then thinly slice. Set a...     4.8   \n",
      "2  Combine apples, water, sugar, and cinnamon in ...     4.8   \n",
      "3  Preheat the oven to 350 degrees F (175 degrees...     4.7   \n",
      "4  Toss apples with lemon juice in a large bowl a...     4.7   \n",
      "\n",
      "                                                 url  \\\n",
      "0  https://www.allrecipes.com/recipe/76931/apple-...   \n",
      "1  https://www.allrecipes.com/recipe/12682/apple-...   \n",
      "2  https://www.allrecipes.com/recipe/51301/sarahs...   \n",
      "3  https://www.allrecipes.com/recipe/12409/apple-...   \n",
      "4  https://www.allrecipes.com/recipe/12681/apple-...   \n",
      "\n",
      "                                        cuisine_path  \\\n",
      "0    /Desserts/Fruit Desserts/Apple Dessert Recipes/   \n",
      "1                  /Desserts/Pies/Apple Pie Recipes/   \n",
      "2                     /Side Dish/Applesauce Recipes/   \n",
      "3  /Desserts/Crisps and Crumbles Recipes/Apple Cr...   \n",
      "4                  /Desserts/Pies/Apple Pie Recipes/   \n",
      "\n",
      "                                           nutrition  \\\n",
      "0  Total Fat 18g 23%, Saturated Fat 7g 34%, Chole...   \n",
      "1  Total Fat 19g 24%, Saturated Fat 9g 46%, Chole...   \n",
      "2  Total Fat 0g 0%, Sodium 3mg 0%, Total Carbohyd...   \n",
      "3  Total Fat 8g 11%, Saturated Fat 5g 25%, Choles...   \n",
      "4  Total Fat 0g 0%, Sodium 61mg 3%, Total Carbohy...   \n",
      "\n",
      "                                              timing  \\\n",
      "0              Servings: 8, Yield: 6 to 8 - servings   \n",
      "1  Prep Time: 30 mins, Cook Time: 1 hrs, Total Ti...   \n",
      "2  Prep Time: 10 mins, Cook Time: 15 mins, Total ...   \n",
      "3  Prep Time: 30 mins, Cook Time: 45 mins, Total ...   \n",
      "4  Prep Time: 20 mins, Cook Time: 20 mins, Additi...   \n",
      "\n",
      "                                             img_src  \n",
      "0  https://www.allrecipes.com/thmb/Tf1wH73bfH6Oql...  \n",
      "1  https://www.allrecipes.com/thmb/1I95oiTGz6aEpu...  \n",
      "2  https://www.allrecipes.com/thmb/VY5d0tZHB8xz6y...  \n",
      "3  https://www.allrecipes.com/thmb/uAzhPOh86PfR-N...  \n",
      "4  https://www.allrecipes.com/thmb/c0bbYaS1V_mTt_...  \n"
     ]
    }
   ],
   "source": [
    "print(\"Sample Data:\", df.head())"
   ]
  },
  {
   "cell_type": "code",
   "execution_count": 6,
   "id": "21ba649a-9146-4852-9e01-f9b3d918f21a",
   "metadata": {},
   "outputs": [],
   "source": [
    "pd.set_option('display.max_colwidth', None)"
   ]
  },
  {
   "cell_type": "markdown",
   "id": "63d88221-72ef-4580-8600-887593795506",
   "metadata": {},
   "source": [
    "### Clean Dataset:\n",
    "Handle null values and remove irrelevant columns  to focus on essential recipe attributes (e.g., name, ingredients, and cuisine)\n"
   ]
  },
  {
   "cell_type": "code",
   "execution_count": 7,
   "id": "cbcde8bc-dc72-4a08-9dcb-35208c9b0f92",
   "metadata": {},
   "outputs": [
    {
     "data": {
      "text/plain": [
       "Unnamed: 0        0\n",
       "recipe_name       0\n",
       "prep_time        51\n",
       "cook_time       308\n",
       "total_time       45\n",
       "servings          0\n",
       "yield           211\n",
       "ingredients       0\n",
       "directions        0\n",
       "rating            0\n",
       "url               0\n",
       "cuisine_path      0\n",
       "nutrition         0\n",
       "timing            0\n",
       "img_src           0\n",
       "dtype: int64"
      ]
     },
     "execution_count": 7,
     "metadata": {},
     "output_type": "execute_result"
    }
   ],
   "source": [
    "# Handle null values\n",
    "df.isnull().sum()\n"
   ]
  },
  {
   "cell_type": "code",
   "execution_count": 8,
   "id": "1835d540-0225-4b1f-b772-c8657b23b9d3",
   "metadata": {},
   "outputs": [],
   "source": [
    "# Drop irrelevant columns\n",
    "df=df.drop(columns=['Unnamed: 0', 'yield', 'timing', 'url', 'servings', 'rating', 'img_src', 'nutrition', 'prep_time', 'cook_time', 'total_time'])"
   ]
  },
  {
   "cell_type": "code",
   "execution_count": 9,
   "id": "1d2b3a95-4b74-421a-90fb-dbbc43c79065",
   "metadata": {},
   "outputs": [],
   "source": [
    "# normalize recipe names\n",
    "df['recipe_name'] = df['recipe_name'].str.strip().str.lower()"
   ]
  },
  {
   "cell_type": "markdown",
   "id": "31e15e56-5407-4c22-b337-bf316de91211",
   "metadata": {},
   "source": [
    "### Clean Ingredient Data:\n",
    "Remove unnecessary text and extra spaces from ingredients to ensure uniformity and easier processing"
   ]
  },
  {
   "cell_type": "code",
   "execution_count": 10,
   "id": "5fe2aa4f-9ddc-4bef-9ad8-60b217d9fc24",
   "metadata": {},
   "outputs": [],
   "source": [
    "import re\n",
    "def clean_ingredients(ingredients):\n",
    "    ingredients=ingredients.split(\",\")\n",
    "    clean_list=[]\n",
    "    for item in ingredients:\n",
    "        item=re.sub(r\"\\([^)]*\\)\",\"\",item)\n",
    "        item=re.sub(r\" +\", \" \", item).strip()\n",
    "        clean_list.append(item)\n",
    "    return \",\".join(clean_list)\n",
    "\n",
    "df['ingredients_clean']=df['ingredients'].apply(clean_ingredients)"
   ]
  },
  {
   "cell_type": "markdown",
   "id": "7cb67a7e-6fe8-4dd0-b87e-7164f1ef64b3",
   "metadata": {},
   "source": [
    "### Extract Cuisine Labels:\n",
    "Extract the specific cuisine category from the cuisine path to use as a categorical label"
   ]
  },
  {
   "cell_type": "code",
   "execution_count": 11,
   "id": "2acfd379-14aa-4c78-bf2b-a8f391207bda",
   "metadata": {},
   "outputs": [],
   "source": [
    "from sklearn.preprocessing import LabelEncoder\n",
    "df['cuisine_label']=df['cuisine_path'].apply(lambda x: x.split('/')[-2] )\n"
   ]
  },
  {
   "cell_type": "code",
   "execution_count": 12,
   "id": "89310a67-6d2b-4ce5-9e44-5202f51e5f7f",
   "metadata": {},
   "outputs": [],
   "source": [
    "df=df.drop(['ingredients', 'directions', 'cuisine_path'], axis=1)"
   ]
  },
  {
   "cell_type": "code",
   "execution_count": 13,
   "id": "55cb3ff7-fc3d-473b-badd-fe6ab1e0c4e7",
   "metadata": {
    "scrolled": true
   },
   "outputs": [
    {
     "data": {
      "text/html": [
       "<div>\n",
       "<style scoped>\n",
       "    .dataframe tbody tr th:only-of-type {\n",
       "        vertical-align: middle;\n",
       "    }\n",
       "\n",
       "    .dataframe tbody tr th {\n",
       "        vertical-align: top;\n",
       "    }\n",
       "\n",
       "    .dataframe thead th {\n",
       "        text-align: right;\n",
       "    }\n",
       "</style>\n",
       "<table border=\"1\" class=\"dataframe\">\n",
       "  <thead>\n",
       "    <tr style=\"text-align: right;\">\n",
       "      <th></th>\n",
       "      <th>recipe_name</th>\n",
       "      <th>ingredients_clean</th>\n",
       "      <th>cuisine_label</th>\n",
       "    </tr>\n",
       "  </thead>\n",
       "  <tbody>\n",
       "    <tr>\n",
       "      <th>0</th>\n",
       "      <td>apple-cranberry crostada</td>\n",
       "      <td>3 tablespoons butter,2 pounds Granny Smith apples (or other firm,crisp apples),peeled,quartered,cored and sliced 1/4-inch thick,1 pound Macintosh apples,peeled,quartered,cored,and sliced 1/4-inch thick,½ cup sugar,½ cup dried cranberries,1 sheet frozen puff pastry,thawed but still cold,1 egg white,lightly beaten,1 tablespoon sugar,1 cup Optional: Ice cream or lightly sweetened whipped cream</td>\n",
       "      <td>Apple Dessert Recipes</td>\n",
       "    </tr>\n",
       "  </tbody>\n",
       "</table>\n",
       "</div>"
      ],
      "text/plain": [
       "                recipe_name  \\\n",
       "0  apple-cranberry crostada   \n",
       "\n",
       "                                                                                                                                                                                                                                                                                                                                                                                           ingredients_clean  \\\n",
       "0  3 tablespoons butter,2 pounds Granny Smith apples (or other firm,crisp apples),peeled,quartered,cored and sliced 1/4-inch thick,1 pound Macintosh apples,peeled,quartered,cored,and sliced 1/4-inch thick,½ cup sugar,½ cup dried cranberries,1 sheet frozen puff pastry,thawed but still cold,1 egg white,lightly beaten,1 tablespoon sugar,1 cup Optional: Ice cream or lightly sweetened whipped cream   \n",
       "\n",
       "           cuisine_label  \n",
       "0  Apple Dessert Recipes  "
      ]
     },
     "execution_count": 13,
     "metadata": {},
     "output_type": "execute_result"
    }
   ],
   "source": [
    "df.head(1)"
   ]
  },
  {
   "cell_type": "code",
   "execution_count": 14,
   "id": "0b10042c-c1f5-40c6-9e84-328a5c593d41",
   "metadata": {},
   "outputs": [],
   "source": [
    "df.to_csv(\"cleaned_recipes.csv\", index=False)"
   ]
  },
  {
   "cell_type": "markdown",
   "id": "1ab19397-ed25-40eb-9ece-d24f34585dea",
   "metadata": {},
   "source": [
    "## Model Development"
   ]
  },
  {
   "cell_type": "markdown",
   "id": "af67cdd0-2912-42c7-b8bc-b168d9dc3ab1",
   "metadata": {},
   "source": [
    "### Vectorize Ingredient Data:\n",
    "Convert Ingredients lists into \n",
    "vectors for similarity computation"
   ]
  },
  {
   "cell_type": "code",
   "execution_count": 15,
   "id": "fb37e14a-5cde-4b45-89fc-62ef07de6e5b",
   "metadata": {
    "scrolled": true
   },
   "outputs": [
    {
     "name": "stderr",
     "output_type": "stream",
     "text": [
      "C:\\Users\\FOUZIA KOUSER\\anaconda_1\\Lib\\site-packages\\sklearn\\feature_extraction\\text.py:528: UserWarning: The parameter 'token_pattern' will not be used since 'tokenizer' is not None'\n",
      "  warnings.warn(\n"
     ]
    }
   ],
   "source": [
    "from sklearn.feature_extraction.text import TfidfVectorizer\n",
    "\n",
    "vectorizer=TfidfVectorizer(tokenizer=lambda x: x.split(','), binary=False)\n",
    "ingredient_vectors=vectorizer.fit_transform(df['ingredients_clean'])"
   ]
  },
  {
   "cell_type": "markdown",
   "id": "95a85f51-ba98-4a5a-902e-e31780b7bcf8",
   "metadata": {},
   "source": [
    "### Compute Cosine Similarity:\n",
    "Measure the similarit between recipes based on their ingredient vwctors"
   ]
  },
  {
   "cell_type": "code",
   "execution_count": 16,
   "id": "3926a20b-2937-4741-b5a9-1ae9a865ed34",
   "metadata": {},
   "outputs": [],
   "source": [
    "from sklearn.metrics.pairwise import cosine_similarity\n",
    "\n",
    "#Compute cosine similarity matrix \n",
    "cosine_sim_matrix=cosine_similarity(ingredient_vectors)\n"
   ]
  },
  {
   "cell_type": "markdown",
   "id": "d9e678e1-6602-4874-af59-045689641540",
   "metadata": {},
   "source": [
    "### Build Recommendation Function:\n",
    "Develop a function to suggest recipes based on ingredient similarity"
   ]
  },
  {
   "cell_type": "code",
   "execution_count": 17,
   "id": "fce2d7f3-c917-427c-9713-61207ad6ba10",
   "metadata": {},
   "outputs": [],
   "source": [
    "#Function to recommend recipes\n",
    "def recommend_recipes(recipe_name,num_recommendations=5,cuisine_filter=None):\n",
    "    #Find the index of the given recipe\n",
    "    recipe_index=df[df['recipe_name'] == recipe_name].index[0]\n",
    "\n",
    "    #Get similarity scores for all recipes\n",
    "    sim_scores = list(enumerate(cosine_sim_matrix[recipe_index]))\n",
    "\n",
    "    #Sort recipes by similarity score\n",
    "    sim_scores = sorted(sim_scores, key=lambda x: x[1],reverse=True)\n",
    "\n",
    "    #Get the indices of the top recommended rcipes\n",
    "    recommended_indices = [i[0] for i in sim_scores[1:num_recommendations + 1]]\n",
    "    \n",
    "    #Apply cuisine filter\n",
    "    if cuisine_filter:\n",
    "        recommended_indices = [\n",
    "            idx for idx in recommended_indices\n",
    "            if df.iloc[idx]['cuisine_label'] == cuisine_filter\n",
    "        ]\n",
    "    \n",
    "    #Return recommended recipes\n",
    "    return df.iloc[recommended_indices][['recipe_name', 'cuisine_label']]"
   ]
  },
  {
   "cell_type": "markdown",
   "id": "fe36c6a2-b7d0-476b-8bca-15299f781ad9",
   "metadata": {},
   "source": [
    "### Test the Model:\n",
    "Validate the recommendation system with a sample query and observe results."
   ]
  },
  {
   "cell_type": "code",
   "execution_count": 18,
   "id": "00eef8da-8a9a-46b3-8ff8-249fdcd8f2b4",
   "metadata": {},
   "outputs": [
    {
     "name": "stdout",
     "output_type": "stream",
     "text": [
      "                                 recipe_name          cuisine_label\n",
      "591                     banana crumb muffins  Banana Muffin Recipes\n",
      "572                    persimmon pudding pie    Pudding Pie Recipes\n",
      "390  peachy bread pudding with caramel sauce  Bread Pudding Recipes\n",
      "0                   apple-cranberry crostada  Apple Dessert Recipes\n",
      "31                  apple-cranberry crostada  Apple Dessert Recipes\n"
     ]
    }
   ],
   "source": [
    "# Recommend 5 recipes similar to \"Espresso Biscotti\"\n",
    "recommendations=recommend_recipes(\"espresso biscotti\", num_recommendations=5)\n",
    "print(recommendations)\n"
   ]
  },
  {
   "cell_type": "code",
   "execution_count": null,
   "id": "c82ea1ce-d87e-41fc-8304-f66320c93cb7",
   "metadata": {},
   "outputs": [],
   "source": []
  }
 ],
 "metadata": {
  "kernelspec": {
   "display_name": "Python 3 (ipykernel)",
   "language": "python",
   "name": "python3"
  },
  "language_info": {
   "codemirror_mode": {
    "name": "ipython",
    "version": 3
   },
   "file_extension": ".py",
   "mimetype": "text/x-python",
   "name": "python",
   "nbconvert_exporter": "python",
   "pygments_lexer": "ipython3",
   "version": "3.11.7"
  }
 },
 "nbformat": 4,
 "nbformat_minor": 5
}
